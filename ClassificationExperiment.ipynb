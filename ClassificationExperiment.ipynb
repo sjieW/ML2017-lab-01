{
 "cells": [
  {
   "cell_type": "code",
   "execution_count": null,
   "metadata": {
    "collapsed": true
   },
   "outputs": [],
   "source": [
    "import numpy as np\n",
    "import matplotlib.pyplot as plt\n",
    "from sklearn.model_selection import train_test_split\n",
    "from sklearn.datasets import load_svmlight_file\n",
    "#从文件中导入数据\n",
    "data = load_svmlight_file(\"australian_scale.txt\")\n",
    "\n",
    "X, y = data[0], data[1]\n",
    "\n",
    "X=X.dot(np.eye(14)) #将X转换成numpy类型 \n",
    "X=np.column_stack((X,np.ones((690,1)))) #为X的最后一列加入偏置项\n",
    "\n",
    "#将y转化为二维的\n",
    "y=y.reshape(690,1)\n",
    "\n",
    "#将数据随机按照2：1分成训练集和测试集\n",
    "X_train, X_test, y_train, y_test = train_test_split(X, y, test_size=0.33, random_state=42)\n",
    "\n",
    "#将参数初始化为全0\n",
    "w=np.zeros((15,1))\n",
    "G=np.zeros((15,1))\n",
    "D=np.zeros((15,1))\n",
    "\n",
    "#得到各个数据集中的数据个数 \n",
    "m_train=X_train.shape[0]\n",
    "m_test=X_test.shape[0]\n",
    "\n",
    "L_train=np.zeros((300,1))\n",
    "L_test=np.zeros((300,1))\n",
    "\n",
    "#设置学习率\n",
    "C=1\n",
    "alpha=0.01\n",
    "\n",
    "#将循环迭代300次，计算出每一次迭代在训练集和测试集的Loss\n",
    "for i in range(300):\n",
    "    M_train=1-y_train*(X_train.dot(w))\n",
    "    M_train[M_train<0]=0\n",
    "    for j in range(m_train):\n",
    "        if M_train[j]>0:\n",
    "            G=G+(y_train[j]*(X_train[j,:]).reshape(15,1))\n",
    "    G=w-C*G/m_train\n",
    "    D=-G\n",
    "    w=w+alpha*D\n",
    "    M_test=1-y_test*(X_test.dot(w))\n",
    "    M_test[M_test<0]=0\n",
    "    L_train[i]=sum(w*w)/2+C*sum(M_train)\n",
    "    L_test[i]=sum(w*w)/2+C*sum(M_test)\n",
    "\n",
    "print(L_test)\n",
    "#绘制Loss随迭代次数变化图\n",
    "x=np.arange(0,300,1)\n",
    "plt.plot(x,L_train,'r',label='L_train')\n",
    "plt.plot(x,L_test,'g',label='L_test')\n",
    "plt.legend(loc='upper right')\n",
    "plt.xlabel('Num of iterations')\n",
    "plt.ylabel('Loss')\n",
    "plt.show()"
   ]
  }
 ],
 "metadata": {
  "kernelspec": {
   "display_name": "Python 3",
   "language": "python",
   "name": "python3"
  },
  "language_info": {
   "codemirror_mode": {
    "name": "ipython",
    "version": 3
   },
   "file_extension": ".py",
   "mimetype": "text/x-python",
   "name": "python",
   "nbconvert_exporter": "python",
   "pygments_lexer": "ipython3",
   "version": "3.6.3"
  }
 },
 "nbformat": 4,
 "nbformat_minor": 2
}
