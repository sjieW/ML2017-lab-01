{
 "cells": [
  {
   "cell_type": "code",
   "execution_count": 1,
   "metadata": {},
   "outputs": [
    {
     "data": {
      "image/png": "[encoded data removed]",
      "text/plain": [
       "<matplotlib.figure.Figure at 0x230072347b8>"
      ]
     },
     "metadata": {},
     "output_type": "display_data"
    }
   ],
   "source": [
    "import numpy as np\n",
    "import matplotlib.pyplot as plt\n",
    "from sklearn.model_selection import train_test_split\n",
    "from sklearn.datasets import load_svmlight_file\n",
    "\n",
    "#从文件中导入数据\n",
    "data = load_svmlight_file(\"housing_scale.txt\")\n",
    "X, y = data[0], data[1]\n",
    "\n",
    "#将X转换成numpy类型并为X的最后一列加入偏置项\n",
    "X=X.dot(np.eye(13))\n",
    "b=np.ones((506,1))\n",
    "X=np.column_stack((X,b))\n",
    "\n",
    "#将y转化为二维的\n",
    "y=y.reshape(506,1)\n",
    "\n",
    "#将数据随机按照2：1分成训练集和测试集\n",
    "X_train, X_test, y_train, y_test = train_test_split(X, y, test_size=0.33, random_state=42)\n",
    "\n",
    "#将参数初始化为全0\n",
    "w=np.zeros((14,1))\n",
    "G=np.zeros((14,1))\n",
    "D=np.zeros((14,1))\n",
    "\n",
    "#得到各个数据集中的数据个数\n",
    "m=X.shape[0]\n",
    "m_train=X_train.shape[0]\n",
    "m_test=X_test.shape[0]\n",
    "\n",
    "#设置学习率\n",
    "alpha=0.1\n",
    "\n",
    "L_train=np.zeros(100)\n",
    "L_test=np.zeros(100)\n",
    "\n",
    "#将循环迭代300次，计算出每一次迭代在训练集和测试集的Loss\n",
    "for i in range(100):\n",
    "    for j in range(14):\n",
    "        G[j]=(((X_train.dot(w)-y_train).T).dot(X_train[:,j]))/m_train\n",
    "    D=-G\n",
    "    w=w+alpha*D\n",
    "    L_train[i]=((X_train.dot(w)-y_train).T).dot(X_train.dot(w)-y_train)/2/m_train\n",
    "    L_test[i]=((X_test.dot(w)-y_test).T).dot(X_test.dot(w)-y_test)/2/m_test\n",
    "    \n",
    "#绘制Loss随迭代次数变化图\n",
    "x=np.arange(0,100,1)\n",
    "plt.plot(x,L_train,'r',label='L_train')\n",
    "plt.plot(x,L_test,'g',label='L_test')\n",
    "plt.legend(loc='upper right')\n",
    "plt.xlabel('Num of iterations')\n",
    "plt.ylabel('Loss')\n",
    "plt.show()"
   ]
  },
  {
   "cell_type": "code",
   "execution_count": null,
   "metadata": {
    "collapsed": true
   },
   "outputs": [],
   "source": []
  }
 ],
 "metadata": {
  "kernelspec": {
   "display_name": "Python 3",
   "language": "python",
   "name": "python3"
  },
  "language_info": {
   "codemirror_mode": {
    "name": "ipython",
    "version": 3
   },
   "file_extension": ".py",
   "mimetype": "text/x-python",
   "name": "python",
   "nbconvert_exporter": "python",
   "pygments_lexer": "ipython3",
   "version": "3.6.3"
  }
 },
 "nbformat": 4,
 "nbformat_minor": 2
}
